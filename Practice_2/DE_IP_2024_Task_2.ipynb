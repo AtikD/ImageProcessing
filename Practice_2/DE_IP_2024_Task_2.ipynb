{
 "cells": [
  {
   "cell_type": "code",
   "id": "b279f653",
   "metadata": {},
   "source": [
    "import cv2\n",
    "import matplotlib.pyplot as plt\n",
    "import numpy as np"
   ],
   "outputs": [],
   "execution_count": null
  },
  {
   "cell_type": "markdown",
   "id": "9742be0b",
   "metadata": {},
   "source": [
    "# Наложение и удаление шума"
   ]
  },
  {
   "cell_type": "code",
   "id": "7e02f6ef",
   "metadata": {},
   "source": [
    "image = cv2.imread('sar_1.jpg')\n",
    "image_gray = cv2.cvtColor(image, cv2.COLOR_BGR2GRAY)"
   ],
   "outputs": [],
   "execution_count": null
  },
  {
   "cell_type": "code",
   "id": "3df5c894",
   "metadata": {},
   "source": [
    "plt.imshow(image_gray, cmap=\"gray\")"
   ],
   "outputs": [],
   "execution_count": null
  },
  {
   "cell_type": "code",
   "id": "b3d035ef",
   "metadata": {},
   "source": [
    "# Gaussian noise\n",
    "mean = 0\n",
    "stddev = 100\n",
    "noise_gauss = np.zeros(image_gray.shape, np.uint8)\n",
    "cv2.randn(noise_gauss, mean, stddev)"
   ],
   "outputs": [],
   "execution_count": null
  },
  {
   "cell_type": "code",
   "id": "b50b659e",
   "metadata": {},
   "source": [
    "plt.imshow(noise_gauss, cmap=\"gray\")"
   ],
   "outputs": [],
   "execution_count": null
  },
  {
   "cell_type": "code",
   "id": "eeeb076d",
   "metadata": {},
   "source": [
    "# Salt and pepper\n",
    "noise = np.random.randint(0, 101, size=(image_gray.shape[0], image_gray.shape[1]), dtype=int)\n",
    "zeros_pixel = np.where(noise == 0)\n",
    "ones_pixel = np.where(noise == 100)"
   ],
   "outputs": [],
   "execution_count": null
  },
  {
   "cell_type": "code",
   "id": "6d5a1b3d",
   "metadata": {},
   "source": [
    "bg_image = np.ones(image_gray.shape, np.uint8) * 128"
   ],
   "outputs": [],
   "execution_count": null
  },
  {
   "cell_type": "code",
   "id": "935a6efd",
   "metadata": {},
   "source": [
    "bg_image[zeros_pixel] = 0\n",
    "bg_image[ones_pixel] = 255"
   ],
   "outputs": [],
   "execution_count": null
  },
  {
   "cell_type": "code",
   "id": "e61a8831",
   "metadata": {},
   "source": [
    "plt.imshow(bg_image, cmap=\"gray\")"
   ],
   "outputs": [],
   "execution_count": null
  },
  {
   "cell_type": "code",
   "id": "8ec72212",
   "metadata": {},
   "source": "image_noise_gauss = cv2.add(image_gray, noise_gauss)",
   "outputs": [],
   "execution_count": null
  },
  {
   "cell_type": "code",
   "id": "798a3436",
   "metadata": {},
   "source": [
    "plt.imshow(image_noise_gauss, cmap=\"gray\")"
   ],
   "outputs": [],
   "execution_count": null
  },
  {
   "cell_type": "code",
   "id": "381452c5",
   "metadata": {},
   "source": "from skimage.metrics import structural_similarity, mean_squared_error",
   "outputs": [],
   "execution_count": null
  },
  {
   "metadata": {},
   "cell_type": "code",
   "source": [
    "mse_gauss = mean_squared_error(image_gray, image_noise_gauss)\n",
    "(ssim, diff) = structural_similarity(image_gray, image_noise_gauss, full=True)\n",
    "print(mse_gauss, ssim)"
   ],
   "id": "b1fb7a7f18aa0569",
   "outputs": [],
   "execution_count": null
  },
  {
   "cell_type": "code",
   "id": "4e715543",
   "metadata": {},
   "source": [
    "image_gauss_median = cv2.medianBlur(image_noise_gauss, 3)"
   ],
   "outputs": [],
   "execution_count": null
  },
  {
   "cell_type": "code",
   "id": "920a5677",
   "metadata": {},
   "source": [
    "mse_gauss_median = mean_squared_error(image_gray, image_gauss_median)\n",
    "(ssim_gauss_median, diff) = structural_similarity(image_gray, image_gauss_median, full=True)"
   ],
   "outputs": [],
   "execution_count": null
  },
  {
   "cell_type": "code",
   "id": "e950157e",
   "metadata": {},
   "source": [
    "print(mse_gauss_median, ssim_gauss_median)"
   ],
   "outputs": [],
   "execution_count": null
  },
  {
   "cell_type": "code",
   "id": "6bf518e9",
   "metadata": {},
   "source": [
    "plt.imshow(image_gauss_median, cmap=\"gray\")"
   ],
   "outputs": [],
   "execution_count": null
  },
  {
   "cell_type": "code",
   "id": "898aecc1",
   "metadata": {},
   "source": [
    "import copy\n",
    "\n",
    "image_sp = copy.deepcopy(image_gray)\n",
    "\n",
    "image_sp[zeros_pixel] = 0\n",
    "image_sp[ones_pixel] = 255"
   ],
   "outputs": [],
   "execution_count": null
  },
  {
   "cell_type": "code",
   "id": "33a4648b",
   "metadata": {},
   "source": [
    "plt.imshow(image_sp, cmap=\"gray\")"
   ],
   "outputs": [],
   "execution_count": null
  },
  {
   "cell_type": "code",
   "id": "1f3ec4d0",
   "metadata": {},
   "source": [
    "mse_sp = mean_squared_error(image_gray, image_sp)\n",
    "(ssim_sp, diff) = structural_similarity(image_gray, image_sp, full=True)\n",
    "print(mse_sp, ssim_sp)"
   ],
   "outputs": [],
   "execution_count": null
  },
  {
   "cell_type": "code",
   "id": "f0745a9f",
   "metadata": {},
   "source": [
    "image_sp_median = cv2.medianBlur(image_sp, 3)"
   ],
   "outputs": [],
   "execution_count": null
  },
  {
   "cell_type": "code",
   "id": "9205d969",
   "metadata": {},
   "source": [
    "mse_sp_median = mean_squared_error(image_gray, image_sp_median)\n",
    "(ssim_sp_median, diff) = structural_similarity(image_gray, image_sp_median, full=True)\n",
    "print(mse_sp_median, ssim_sp_median)"
   ],
   "outputs": [],
   "execution_count": null
  },
  {
   "cell_type": "markdown",
   "id": "45e0b867",
   "metadata": {},
   "source": [
    "# Другие типы фильтров"
   ]
  },
  {
   "cell_type": "code",
   "id": "307d7126",
   "metadata": {},
   "source": "image_gauss_gauss = cv2.GaussianBlur(image_noise_gauss, (5, 5), 0)",
   "outputs": [],
   "execution_count": null
  },
  {
   "cell_type": "code",
   "id": "c1a4d703",
   "metadata": {},
   "source": "image_gauss_bilat = cv2.bilateralFilter(image_noise_gauss, 9, 75, 75)",
   "outputs": [],
   "execution_count": null
  },
  {
   "cell_type": "code",
   "id": "0583889f",
   "metadata": {},
   "source": "image_gauss_nlm = cv2.fastNlMeansDenoising(image_noise_gauss, h=20)",
   "outputs": [],
   "execution_count": null
  },
  {
   "cell_type": "code",
   "id": "b4eb567e",
   "metadata": {},
   "source": [
    "import math\n",
    "\n",
    "\n",
    "def geom(a):\n",
    "    prod = 1\n",
    "    for i in range(a.shape[0]):\n",
    "        prod1 = 1\n",
    "        for j in range(a.shape[1]):\n",
    "            prod1 *= a[i, j]\n",
    "        prod1 = math.pow(prod1, 1.0 / 9.0)\n",
    "        prod *= prod1\n",
    "    return prod\n",
    "\n",
    "\n",
    "def proc(img, filter):\n",
    "    img_res = copy.deepcopy(img)\n",
    "    for i in range(0, img.shape[0] - 2):\n",
    "        for j in range(0, img.shape[1] - 2):\n",
    "            img_res[i:i + 3, j:j + 3] = filter(img[i:i + 3, j:j + 3])\n",
    "    return img_res\n",
    "\n",
    "\n",
    "res = proc(image_noise_gauss, geom)\n"
   ],
   "outputs": [],
   "execution_count": null
  },
  {
   "cell_type": "code",
   "id": "de7813ba",
   "metadata": {},
   "source": [
    "plt.imshow(res, cmap=\"gray\")"
   ],
   "outputs": [],
   "execution_count": null
  },
  {
   "cell_type": "code",
   "id": "6d83cd76",
   "metadata": {},
   "source": [
    "mse_geom = mean_squared_error(image_gray, res)\n",
    "(ssim_geom, diff) = structural_similarity(image_gray, res, full=True)\n",
    "print(mse_geom, ssim_geom)"
   ],
   "outputs": [],
   "execution_count": null
  },
  {
   "cell_type": "markdown",
   "id": "db06afff",
   "metadata": {},
   "source": [
    "\n",
    "# 2D свертка"
   ]
  },
  {
   "cell_type": "code",
   "id": "3a64a480",
   "metadata": {},
   "source": [
    "# averaging filter\n",
    "kernel_5 = np.ones((5, 5), np.float32) / 25\n",
    "image_k5 = cv2.filter2D(image_gray, -1, kernel_5)\n",
    "# blured_image = cv2.blur(img,(5,5))\n",
    "image_b5 = cv2.blur(image_gray, (5, 5))"
   ],
   "outputs": [],
   "execution_count": null
  },
  {
   "cell_type": "code",
   "id": "4e707a48",
   "metadata": {},
   "source": [
    "mse_kb = mean_squared_error(image_k5, image_b5)\n",
    "(ssim_kb, diff) = structural_similarity(image_k5, image_b5, full=True)\n",
    "print(mse_kb, ssim_kb)"
   ],
   "outputs": [],
   "execution_count": null
  },
  {
   "cell_type": "code",
   "id": "34c522c9",
   "metadata": {},
   "source": [
    "# Laplasian\n",
    "kernel_lapl = np.array([[0, -10, 0],\n",
    "                        [-10, 40, -10],\n",
    "                        [0, -10, 0]], np.float32)"
   ],
   "outputs": [],
   "execution_count": null
  },
  {
   "cell_type": "code",
   "id": "719bfcd8",
   "metadata": {},
   "source": "image_lapl = cv2.filter2D(image_gray, -1, kernel_lapl)",
   "outputs": [],
   "execution_count": null
  },
  {
   "cell_type": "code",
   "id": "4f3d7b60",
   "metadata": {
    "scrolled": true
   },
   "source": [
    "plt.imshow(image_lapl, cmap=\"gray\")"
   ],
   "outputs": [],
   "execution_count": null
  },
  {
   "cell_type": "code",
   "id": "2bdd0fdc",
   "metadata": {},
   "source": [
    "# ДЗ 2\n",
    "# Зашумить изображение при помощи шума гаусса, постоянного шума.\n",
    "# Протестировать медианный фильтр, фильтр гаусса, билатериальный фильтр, фильтр нелокальных средних с различными параметрами.\n",
    "# Выяснить, какой фильтр показал лучший результат фильтрации шума."
   ],
   "outputs": [],
   "execution_count": null
  },
  {
   "metadata": {},
   "cell_type": "markdown",
   "source": "# Lab Work",
   "id": "862198aa7f77c1db"
  },
  {
   "metadata": {},
   "cell_type": "code",
   "source": [
    "image = cv2.imread(\"img.jpg\")\n",
    "image_gray = cv2.cvtColor(image, cv2.COLOR_BGR2GRAY)\n",
    "plt.imshow(image_gray)"
   ],
   "id": "c007f6ed53595fe",
   "outputs": [],
   "execution_count": null
  },
  {
   "metadata": {},
   "cell_type": "code",
   "source": [
    "#Шум Гаусса\n",
    "def add_gauss_noise(image, mean=0, stddev=50):\n",
    "    noise = np.zeros(image.shape, np.uint8)\n",
    "    cv2.randn(noise, mean, stddev)\n",
    "\n",
    "    result = cv2.add(image, noise)\n",
    "    return result\n",
    "\n",
    "\n",
    "image_with_gauss = add_gauss_noise(image_gray)\n",
    "plt.imshow(image)"
   ],
   "id": "9e6aa5bb9d213ac4",
   "outputs": [],
   "execution_count": null
  },
  {
   "metadata": {},
   "cell_type": "code",
   "source": [
    "#Постоянный шум\n",
    "add_constant_noise = lambda image, value: cv2.add(image, np.full(image_gray.shape, value, dtype=np.uint8))\n",
    "image_with_constant = add_constant_noise(image_gray, 10)\n",
    "plt.imshow(image_with_constant)"
   ],
   "id": "4caa1ee543140d93",
   "outputs": [],
   "execution_count": null
  },
  {
   "metadata": {},
   "cell_type": "code",
   "source": [
    "filters_gauss = {}\n",
    "params_list = []\n",
    "\n",
    "# Медианный\n",
    "for k in [3, 5, 7]:\n",
    "    name = f'Median k={k}'\n",
    "    filters_gauss[name] = cv2.medianBlur(image_with_gauss, k)\n",
    "    params_list.append(name)\n",
    "\n",
    "# Гауссовский\n",
    "for k in [3, 5, 7]:\n",
    "    name = f'Gaussian k={k}'\n",
    "    filters_gauss[name] = cv2.GaussianBlur(image_with_gauss, (k, k), 0)\n",
    "    params_list.append(name)\n",
    "\n",
    "# Билатеральный\n",
    "for d, sigma in [(5, 50), (7, 75), (9, 100)]:\n",
    "    name = f'Bilateral d={d}, σ={sigma}'\n",
    "    filters_gauss[name] = cv2.bilateralFilter(image_with_gauss, d, sigma, sigma)\n",
    "    params_list.append(name)\n",
    "\n",
    "# фильтр нелокальных средних с различными параметрами\n",
    "for h in [10, 20, 30]:\n",
    "    name = f'NLM h={h}'\n",
    "    filters_gauss[name] = cv2.fastNlMeansDenoising(image_with_gauss, h=h)\n",
    "    params_list.append(name)\n",
    "\n",
    "print(\"ГАУССОВСКИЙ ШУМ\")\n",
    "\n",
    "results_gauss = []\n",
    "for name, filtered in filters_gauss.items():\n",
    "    mse = mean_squared_error(image_gray, filtered)\n",
    "    ssim_val, _ = structural_similarity(image_gray, filtered, full=True)\n",
    "    results_gauss.append((name, mse, ssim_val))\n",
    "    print(f\"{name:30s} | MSE: {mse:8.2f} | SSIM: {ssim_val:.4f}\")\n",
    "best_gauss = max(results_gauss, key=lambda x: x[2])\n",
    "print(f\"\\nЛучший: {best_gauss[0]} | MSE: {best_gauss[1]:.2f} | SSIM: {best_gauss[2]:.4f}\")"
   ],
   "id": "3671bc9a206ce4dc",
   "outputs": [],
   "execution_count": null
  },
  {
   "metadata": {},
   "cell_type": "code",
   "source": [
    "fig, axes = plt.subplots(4, 4, figsize=(16, 16))\n",
    "axes = axes.flatten()\n",
    "\n",
    "axes[0].imshow(image_gray, cmap='gray')\n",
    "axes[0].set_title('Original')\n",
    "axes[0].axis('off')\n",
    "\n",
    "axes[1].imshow(image_with_gauss, cmap='gray')\n",
    "axes[1].set_title('With Gaussian Noise')\n",
    "axes[1].axis('off')\n",
    "\n",
    "for idx, (name, img) in enumerate(filters_gauss.items(), start=2):\n",
    "    axes[idx].imshow(img, cmap='gray')\n",
    "    axes[idx].set_title(name)\n",
    "    axes[idx].axis('off')\n",
    "\n",
    "for idx in range(len(filters_gauss) + 2, len(axes)):\n",
    "    axes[idx].axis('off')\n",
    "\n",
    "plt.suptitle('Фильтрация гауссовского шума', fontsize=16)\n",
    "plt.tight_layout()\n",
    "plt.show()"
   ],
   "id": "a5bb5449d573836d",
   "outputs": [],
   "execution_count": null
  },
  {
   "metadata": {},
   "cell_type": "code",
   "source": [
    "filters_const = {}\n",
    "\n",
    "for k in [3, 5, 7]:\n",
    "    name = f'Median k={k}'\n",
    "    filters_const[name] = cv2.medianBlur(image_with_constant, k)\n",
    "\n",
    "for k in [3, 5, 7]:\n",
    "    name = f'Gaussian k={k}'\n",
    "    filters_const[name] = cv2.GaussianBlur(image_with_constant, (k, k), 0)\n",
    "\n",
    "for d, sigma in [(5, 50), (7, 75), (9, 100)]:\n",
    "    name = f'Bilateral d={d}, σ={sigma}'\n",
    "    filters_const[name] = cv2.bilateralFilter(image_with_constant, d, sigma, sigma)\n",
    "\n",
    "for h in [10, 20, 30]:\n",
    "    name = f'NLM h={h}'\n",
    "    filters_const[name] = cv2.fastNlMeansDenoising(image_with_constant, h=h)\n",
    "\n",
    "print(\"ПОСТОЯННЫЙ ШУМ\")\n",
    "\n",
    "results_const = []\n",
    "for name, filtered in filters_const.items():\n",
    "    mse = mean_squared_error(image_gray, filtered)\n",
    "    ssim_val, _ = structural_similarity(image_gray, filtered, full=True)\n",
    "    results_const.append((name, mse, ssim_val))\n",
    "    print(f\"{name:30s} | MSE: {mse:8.2f} | SSIM: {ssim_val:.4f}\")\n",
    "\n",
    "best_const = max(results_const, key=lambda x: x[2])\n",
    "print(f\"\\nЛучший: {best_const[0]} | MSE: {best_const[1]:.2f} | SSIM: {best_const[2]:.4f}\")"
   ],
   "id": "760b430da208d512",
   "outputs": [],
   "execution_count": null
  },
  {
   "metadata": {},
   "cell_type": "code",
   "source": [
    "fig, axes = plt.subplots(4, 4, figsize=(16, 16))\n",
    "axes = axes.flatten()\n",
    "\n",
    "axes[0].imshow(image_gray, cmap='gray')\n",
    "axes[0].set_title('Original')\n",
    "axes[0].axis('off')\n",
    "\n",
    "axes[1].imshow(image_with_constant, cmap='gray')\n",
    "axes[1].set_title('With Constant Noise')\n",
    "axes[1].axis('off')\n",
    "\n",
    "for idx, (name, img) in enumerate(filters_const.items(), start=2):\n",
    "    axes[idx].imshow(img, cmap='gray')\n",
    "    axes[idx].set_title(name)\n",
    "    axes[idx].axis('off')\n",
    "\n",
    "for idx in range(len(filters_const) + 2, len(axes)):\n",
    "    axes[idx].axis('off')\n",
    "\n",
    "plt.suptitle('Фильтрация постоянного шума', fontsize=16)\n",
    "plt.tight_layout()\n",
    "plt.show()"
   ],
   "id": "ac9bf07651eab8d",
   "outputs": [],
   "execution_count": null
  }
 ],
 "metadata": {
  "kernelspec": {
   "display_name": "Python 3 (ipykernel)",
   "language": "python",
   "name": "python3"
  },
  "language_info": {
   "codemirror_mode": {
    "name": "ipython",
    "version": 3
   },
   "file_extension": ".py",
   "mimetype": "text/x-python",
   "name": "python",
   "nbconvert_exporter": "python",
   "pygments_lexer": "ipython3",
   "version": "3.10.4"
  }
 },
 "nbformat": 4,
 "nbformat_minor": 5
}
