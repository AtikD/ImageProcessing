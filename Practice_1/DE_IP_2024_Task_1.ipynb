{
 "cells": [
  {
   "metadata": {},
   "cell_type": "code",
   "source": [
    "import cv2\n",
    "import matplotlib.pyplot as plt\n",
    "import numpy as np"
   ],
   "id": "8981c4ea7dd5dfcc",
   "outputs": [],
   "execution_count": null
  },
  {
   "metadata": {},
   "cell_type": "markdown",
   "source": "# Базовая работа с изображением",
   "id": "2d204045ca58d144"
  },
  {
   "metadata": {},
   "cell_type": "code",
   "source": "image = cv2.imread('sar_2_color.jpg')",
   "id": "bf4745aee4bcbf5d",
   "outputs": [],
   "execution_count": null
  },
  {
   "metadata": {},
   "cell_type": "code",
   "source": "plt.imshow(image)",
   "id": "f9392432bacef1b9",
   "outputs": [],
   "execution_count": null
  },
  {
   "metadata": {},
   "cell_type": "code",
   "source": "image.shape  # h,w,c",
   "id": "a2457ee9ac96c2d8",
   "outputs": [],
   "execution_count": null
  },
  {
   "metadata": {},
   "cell_type": "code",
   "source": "image[250, 250]  # b,g,r",
   "id": "c321b34a51dc3c2c",
   "outputs": [],
   "execution_count": null
  },
  {
   "metadata": {},
   "cell_type": "code",
   "source": [
    "# ROI\n",
    "img_roi = image[100:200, 500:700]"
   ],
   "id": "c2b8716788a5daf0",
   "outputs": [],
   "execution_count": null
  },
  {
   "metadata": {},
   "cell_type": "code",
   "source": "plt.imshow(img_roi)",
   "id": "ef9ce2f289d51f23",
   "outputs": [],
   "execution_count": null
  },
  {
   "metadata": {},
   "cell_type": "code",
   "source": "b, g, r = cv2.split(image)",
   "id": "769b2dc22dad2665",
   "outputs": [],
   "execution_count": null
  },
  {
   "metadata": {},
   "cell_type": "code",
   "source": "plt.imshow(b, cmap='gray')",
   "id": "1155adfbc86f1488",
   "outputs": [],
   "execution_count": null
  },
  {
   "metadata": {},
   "cell_type": "code",
   "source": "plt.imshow(g, cmap='gray')",
   "id": "55b3003a7b8a082d",
   "outputs": [],
   "execution_count": null
  },
  {
   "metadata": {},
   "cell_type": "code",
   "source": [
    "# alternative approach\n",
    "b = image[:, :, 0]"
   ],
   "id": "6a65881cb01673c4",
   "outputs": [],
   "execution_count": null
  },
  {
   "metadata": {},
   "cell_type": "code",
   "source": [
    "import copy\n",
    "\n",
    "image2 = copy.deepcopy(image)"
   ],
   "id": "a3700b405974445b",
   "outputs": [],
   "execution_count": null
  },
  {
   "metadata": {},
   "cell_type": "code",
   "source": "image2[50:100, 50:100] = [0, 0, 0]",
   "id": "62dee3a9bffb0049",
   "outputs": [],
   "execution_count": null
  },
  {
   "metadata": {},
   "cell_type": "code",
   "source": "plt.imshow(image2)",
   "id": "9a5567060ccf562c",
   "outputs": [],
   "execution_count": null
  },
  {
   "metadata": {},
   "cell_type": "code",
   "source": [
    "# empty image\n",
    "image_template = np.zeros(image.shape, np.uint8)"
   ],
   "id": "d45f6b420e0f6145",
   "outputs": [],
   "execution_count": null
  },
  {
   "metadata": {},
   "cell_type": "code",
   "source": "plt.imshow(image_template)",
   "id": "898aad883c171fdb",
   "outputs": [],
   "execution_count": null
  },
  {
   "metadata": {},
   "cell_type": "markdown",
   "source": "# Конвертация цветовых моделей",
   "id": "9f215a563901eb63"
  },
  {
   "metadata": {},
   "cell_type": "code",
   "source": "image_template[0, 0]",
   "id": "6c827628bc2029d9",
   "outputs": [],
   "execution_count": null
  },
  {
   "metadata": {},
   "cell_type": "code",
   "source": "image_gray = cv2.cvtColor(image, cv2.COLOR_BGR2GRAY)",
   "id": "8192df17fba9724b",
   "outputs": [],
   "execution_count": null
  },
  {
   "metadata": {},
   "cell_type": "code",
   "source": "image_gray[0, 0]",
   "id": "34639c9c292e314",
   "outputs": [],
   "execution_count": null
  },
  {
   "metadata": {},
   "cell_type": "code",
   "source": "image_gray.shape",
   "id": "1c633499cfc31d9f",
   "outputs": [],
   "execution_count": null
  },
  {
   "metadata": {},
   "cell_type": "code",
   "source": "image_hsv = cv2.cvtColor(image, cv2.COLOR_BGR2HSV)",
   "id": "5e8d6caf94a91b6c",
   "outputs": [],
   "execution_count": null
  },
  {
   "metadata": {},
   "cell_type": "code",
   "source": "image_hsv.shape",
   "id": "c121fb0b46bf7241",
   "outputs": [],
   "execution_count": null
  },
  {
   "metadata": {},
   "cell_type": "code",
   "source": "image_hsv[0, 0]",
   "id": "f9fb36f3e427aac2",
   "outputs": [],
   "execution_count": null
  },
  {
   "metadata": {},
   "cell_type": "code",
   "source": "image[0, 0]",
   "id": "144c8a0e48214bd2",
   "outputs": [],
   "execution_count": null
  },
  {
   "metadata": {},
   "cell_type": "code",
   "source": "image_lab = cv2.cvtColor(image, cv2.COLOR_BGR2Lab)",
   "id": "2a7aefda9176696e",
   "outputs": [],
   "execution_count": null
  },
  {
   "metadata": {},
   "cell_type": "code",
   "source": "image_lab[0, 0]",
   "id": "eb2f5d1942689bb5",
   "outputs": [],
   "execution_count": null
  },
  {
   "metadata": {},
   "cell_type": "markdown",
   "source": "# Пороговая фильтрация",
   "id": "aec94f3685f639c8"
  },
  {
   "metadata": {},
   "cell_type": "code",
   "source": "_, thresh1 = cv2.threshold(image_gray, 200, 255, cv2.THRESH_BINARY)",
   "id": "2b332b83b91c12e0",
   "outputs": [],
   "execution_count": null
  },
  {
   "metadata": {},
   "cell_type": "code",
   "source": "plt.imshow(thresh1, cmap='gray')",
   "id": "974b182031402d3d",
   "outputs": [],
   "execution_count": null
  },
  {
   "metadata": {},
   "cell_type": "code",
   "source": "thresh1[thresh1 == 100].sum()",
   "id": "9b3638ca18e1d35d",
   "outputs": [],
   "execution_count": null
  },
  {
   "metadata": {},
   "cell_type": "markdown",
   "source": "# Построение гистограммы",
   "id": "4fe6a57432e6b6be"
  },
  {
   "metadata": {},
   "cell_type": "code",
   "source": [
    "histSize = 256\n",
    "histRange = (0, 256)\n",
    "accumulate = False\n",
    "\n",
    "b_hist = cv2.calcHist([b], [0], None, [histSize], histRange, accumulate=accumulate)"
   ],
   "id": "55a302b8e82541a3",
   "outputs": [],
   "execution_count": null
  },
  {
   "metadata": {},
   "cell_type": "code",
   "source": "plt.plot(b_hist)",
   "id": "471862d375314e28",
   "outputs": [],
   "execution_count": null
  },
  {
   "metadata": {},
   "cell_type": "code",
   "source": "b_hist_cum = b_hist.cumsum()",
   "id": "19e67e21b0d238ec",
   "outputs": [],
   "execution_count": null
  },
  {
   "metadata": {},
   "cell_type": "code",
   "source": "plt.plot(b_hist_cum)",
   "id": "7ba1a0c5ae8a6e62",
   "outputs": [],
   "execution_count": null
  },
  {
   "metadata": {},
   "cell_type": "code",
   "source": "b_hist_norm = b_hist / (image.shape[0] * image.shape[1])",
   "id": "a3346173c3a59ec2",
   "outputs": [],
   "execution_count": null
  },
  {
   "metadata": {},
   "cell_type": "code",
   "source": "plt.plot(b_hist_norm)",
   "id": "817f04eb8732f6e8",
   "outputs": [],
   "execution_count": null
  },
  {
   "metadata": {},
   "cell_type": "markdown",
   "source": "# Сравнение двух изображений",
   "id": "475b45fecb927229"
  },
  {
   "metadata": {},
   "cell_type": "code",
   "source": [
    "from skimage.metrics import structural_similarity, mean_squared_error\n",
    "\n",
    "(ssim, diff) = structural_similarity(image_gray, image_gray, full=True)\n",
    "diff = (diff * 255).astype(\"uint8\")\n",
    "print(\"SSIM: {}\".format(ssim))"
   ],
   "id": "820c05c3dfa211c6",
   "outputs": [],
   "execution_count": null
  },
  {
   "metadata": {},
   "cell_type": "code",
   "source": "plt.imshow(diff)",
   "id": "a219f539cc60b64b",
   "outputs": [],
   "execution_count": null
  },
  {
   "metadata": {},
   "cell_type": "code",
   "source": [
    "mse = mean_squared_error(image_gray, image_gray)\n",
    "print(mse)\n",
    "mse"
   ],
   "id": "3e270307188f775c",
   "outputs": [],
   "execution_count": null
  },
  {
   "metadata": {},
   "cell_type": "markdown",
   "source": "# Статистические характеристики изображений",
   "id": "242c17839e4912ee"
  },
  {
   "metadata": {},
   "cell_type": "code",
   "source": "mean = image_gray.mean()",
   "id": "d09efdd761a210b3",
   "outputs": [],
   "execution_count": null
  },
  {
   "metadata": {},
   "cell_type": "code",
   "source": "std = image_gray.std()",
   "id": "4a7fa70cb57460c8",
   "outputs": [],
   "execution_count": null
  },
  {
   "metadata": {},
   "cell_type": "code",
   "source": "print(mean, std)",
   "id": "1a573bd2619a93b4",
   "outputs": [],
   "execution_count": null
  },
  {
   "metadata": {},
   "cell_type": "code",
   "source": "eq_gray = cv2.equalizeHist(image_gray)",
   "id": "b9dd123647afee80",
   "outputs": [],
   "execution_count": null
  },
  {
   "metadata": {},
   "cell_type": "code",
   "source": "plt.imshow(eq_gray, cmap=\"gray\")\n",
   "id": "75020f238c685f3f",
   "outputs": [],
   "execution_count": null
  },
  {
   "metadata": {},
   "cell_type": "code",
   "source": "plt.imshow(image_gray, cmap=\"gray\")",
   "id": "8beead1dbb95fec9",
   "outputs": [],
   "execution_count": null
  },
  {
   "metadata": {},
   "cell_type": "code",
   "source": [
    "# 1. Загрузите изображение в оттенках серого sar_1_gray.jpg.\n",
    "# 2. постройте гистограмму\n",
    "# 3. реализуйте алгоритм гамма коррекции с параметром гамма <1, >1.\n",
    "# 4. Сравните исходное изображение, скорректированное при помощи гамма-фильтра. MSE, SSIM.\n",
    "# 5. реализуйте алгоритм статистической цветокоррекции на основе статистики eq_gray.\n",
    "# 6. Протестируйте работу алгоритмов пороговой фильтрации с различными параметрами.\n",
    "# Для каждого решения - напечатайте результат\n"
   ],
   "id": "350be3d44f0d2b8",
   "outputs": [],
   "execution_count": null
  },
  {
   "metadata": {},
   "cell_type": "markdown",
   "source": "# Lab Work",
   "id": "6e73051b6a7e4bdd"
  },
  {
   "metadata": {},
   "cell_type": "code",
   "source": "image = cv2.imread('sar_1_gray.jpg')",
   "id": "7bb00c0a6730283a",
   "outputs": [],
   "execution_count": null
  },
  {
   "metadata": {},
   "cell_type": "code",
   "source": "plt.imshow(image)",
   "id": "421b675a6cdd9ea",
   "outputs": [],
   "execution_count": null
  },
  {
   "metadata": {},
   "cell_type": "code",
   "source": "b = image[:, :, 0]",
   "id": "f245419715d3aae2",
   "outputs": [],
   "execution_count": null
  },
  {
   "metadata": {},
   "cell_type": "code",
   "source": [
    "histSize = 256\n",
    "histRange = (0, 256)\n",
    "accumulate = False\n",
    "\n",
    "b_hist = cv2.calcHist([b], [0], None, [histSize], histRange, accumulate=accumulate)"
   ],
   "id": "d9a9f0c1b3f2356",
   "outputs": [],
   "execution_count": null
  },
  {
   "metadata": {},
   "cell_type": "code",
   "source": "plt.plot(b_hist)",
   "id": "dd47a7efbc488d38",
   "outputs": [],
   "execution_count": null
  },
  {
   "metadata": {},
   "cell_type": "code",
   "source": [
    "def gamma_correction(source, gamma):\n",
    "    # Нормализуем значения пикселей к диапазону [0, 1]\n",
    "    normalized = source / 255.0\n",
    "\n",
    "    # Применяем гамма-коррекцию\n",
    "    corrected = np.power(normalized, gamma)\n",
    "\n",
    "    # Вовращаем в диапазон [0, 255]\n",
    "    result = (corrected * 255).astype(np.uint8)\n",
    "\n",
    "    return result"
   ],
   "id": "1f281ae1dcf32caf",
   "outputs": [],
   "execution_count": null
  },
  {
   "metadata": {},
   "cell_type": "code",
   "source": [
    "# Гамма < 1 (осветление)\n",
    "gamma_low = 0.5\n",
    "image_gamma_low = gamma_correction(image, gamma_low)\n",
    "plt.imshow(image_gamma_low)"
   ],
   "id": "5092f73232fa9420",
   "outputs": [],
   "execution_count": null
  },
  {
   "metadata": {},
   "cell_type": "code",
   "source": [
    "# Гамма > 1\n",
    "gamma_high = 2.0\n",
    "image_gamma_high = gamma_correction(image, gamma_high)\n",
    "plt.imshow(image_gamma_high)"
   ],
   "id": "1ac5488a9dc1aff4",
   "outputs": [],
   "execution_count": null
  },
  {
   "metadata": {},
   "cell_type": "code",
   "source": [
    "# gamma_low\n",
    "(ssim_low, diff_low) = structural_similarity(image, image_gamma_low, full=True, win_size=3)\n",
    "diff_low = (diff_low * 255).astype(\"uint8\")\n",
    "mse_low = mean_squared_error(image, image_gamma_low)\n",
    "print(\"SSIM: {}\".format(ssim_low))\n",
    "print(f\"MSE: {mse_low:.2f}\")\n",
    "plt.imshow(diff_low)"
   ],
   "id": "89af58a7c275a7f6",
   "outputs": [],
   "execution_count": null
  },
  {
   "metadata": {},
   "cell_type": "code",
   "source": [
    "# gamma_high\n",
    "(ssim_high, diff_high) = structural_similarity(image, image_gamma_high, full=True, win_size=3)\n",
    "diff_high = (diff_high * 255).astype(\"uint8\")\n",
    "mse_high = mean_squared_error(image, image_gamma_high)\n",
    "print(\"SSIM: {}\".format(ssim_high))\n",
    "print(f\"MSE: {mse_high:.2f}\")\n",
    "plt.imshow(diff_high)"
   ],
   "id": "e8dacd6d2baf73af",
   "outputs": [],
   "execution_count": null
  },
  {
   "metadata": {},
   "cell_type": "code",
   "source": [
    "def statistical_color_correction(source):\n",
    "    source_gray = cv2.cvtColor(source, cv2.COLOR_BGR2GRAY)\n",
    "    eq_gray = cv2.equalizeHist(source_gray)\n",
    "\n",
    "    source_mean = source.mean()\n",
    "    source_std = source.std()\n",
    "\n",
    "    eq_gray_mean = eq_gray.mean()\n",
    "    eq_gray_std = eq_gray.std()\n",
    "\n",
    "    corrected = ((source.astype(np.float32) - source_mean) * (eq_gray_std / source_std) + eq_gray_mean)\n",
    "\n",
    "    corrected = np.clip(corrected, 0, 255).astype(np.uint8)\n",
    "\n",
    "    return corrected"
   ],
   "id": "738d9c2ce088c08a",
   "outputs": [],
   "execution_count": null
  },
  {
   "metadata": {},
   "cell_type": "code",
   "source": [
    "image_stat_corrected = statistical_color_correction(image)\n",
    "\n",
    "fig, axes = plt.subplots(1, 2, figsize=(15, 5))\n",
    "axes[0].imshow(image)\n",
    "axes[1].imshow(image_stat_corrected)"
   ],
   "id": "93680e4912e70741",
   "outputs": [],
   "execution_count": null
  },
  {
   "metadata": {},
   "cell_type": "code",
   "source": [
    "image_gray = cv2.cvtColor(image, cv2.COLOR_BGR2GRAY)\n",
    "\n",
    "thresholds = [50, 100, 150, 200]\n",
    "\n",
    "fig, axes = plt.subplots(2, 2, figsize=(12, 10))\n",
    "fig.suptitle('Простая бинарная фильтрация', fontsize=16)\n",
    "\n",
    "for idx, thresh_val in enumerate(thresholds):\n",
    "    _, thresh_result = cv2.threshold(image_gray, thresh_val, 255, cv2.THRESH_BINARY)\n",
    "    row = idx // 2\n",
    "    col = idx % 2\n",
    "    axes[row, col].imshow(thresh_result)\n",
    "    axes[row, col].set_title(f'Порог = {thresh_val}')\n",
    "    axes[row, col].axis('off')"
   ],
   "id": "8f4eb708d7424832",
   "outputs": [],
   "execution_count": null
  }
 ],
 "metadata": {
  "kernelspec": {
   "display_name": "Python 3 (ipykernel)",
   "language": "python",
   "name": "python3"
  },
  "language_info": {
   "codemirror_mode": {
    "name": "ipython",
    "version": 3
   },
   "file_extension": ".py",
   "mimetype": "text/x-python",
   "name": "python",
   "nbconvert_exporter": "python",
   "pygments_lexer": "ipython3",
   "version": "3.10.4"
  }
 },
 "nbformat": 4,
 "nbformat_minor": 5
}
