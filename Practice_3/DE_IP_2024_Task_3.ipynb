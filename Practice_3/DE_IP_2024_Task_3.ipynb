{
 "cells": [
  {
   "cell_type": "code",
   "id": "b279f653",
   "metadata": {},
   "source": [
    "import cv2\n",
    "import matplotlib.pyplot as plt\n",
    "import numpy as np"
   ],
   "outputs": [],
   "execution_count": null
  },
  {
   "cell_type": "code",
   "id": "7e02f6ef",
   "metadata": {},
   "source": [
    "image = cv2.imread('sar_2.jpg')\n",
    "image_gray = cv2.cvtColor(image, cv2.COLOR_BGR2GRAY)"
   ],
   "outputs": [],
   "execution_count": null
  },
  {
   "cell_type": "code",
   "id": "3df5c894",
   "metadata": {},
   "source": [
    "plt.imshow(image_gray, cmap=\"gray\")"
   ],
   "outputs": [],
   "execution_count": null
  },
  {
   "cell_type": "markdown",
   "id": "57a3267b",
   "metadata": {},
   "source": [
    "# Точечная бинаризация"
   ]
  },
  {
   "cell_type": "code",
   "id": "fe63c56f",
   "metadata": {},
   "source": [
    "import copy\n",
    "\n",
    "bin_img = copy.deepcopy(image_gray)\n",
    "T = 50\n",
    "bin_img[image_gray < T] = 0\n",
    "bin_img[image_gray >= T] = 255"
   ],
   "outputs": [],
   "execution_count": null
  },
  {
   "cell_type": "code",
   "id": "9c67313b",
   "metadata": {},
   "source": [
    "plt.imshow(bin_img, cmap=\"gray\")"
   ],
   "outputs": [],
   "execution_count": null
  },
  {
   "cell_type": "markdown",
   "id": "9742be0b",
   "metadata": {},
   "source": [
    "# Бинаризация Отсу"
   ]
  },
  {
   "cell_type": "code",
   "id": "b3d035ef",
   "metadata": {},
   "source": [
    "# otsu binarization\n",
    "_, th2 = cv2.threshold(image_gray, 0, 255, cv2.THRESH_BINARY + cv2.THRESH_OTSU)"
   ],
   "outputs": [],
   "execution_count": null
  },
  {
   "cell_type": "code",
   "id": "b50b659e",
   "metadata": {
    "scrolled": true
   },
   "source": [
    "plt.imshow(th2, cmap=\"gray\")"
   ],
   "outputs": [],
   "execution_count": null
  },
  {
   "cell_type": "markdown",
   "id": "832cc591",
   "metadata": {},
   "source": [
    "# Адаптивная бинаризация"
   ]
  },
  {
   "cell_type": "code",
   "id": "eeeb076d",
   "metadata": {},
   "source": [
    "# \n",
    "th3 = cv2.adaptiveThreshold(image_gray, 255, cv2.ADAPTIVE_THRESH_GAUSSIAN_C,\n",
    "                            cv2.THRESH_BINARY, 71, 21)\n"
   ],
   "outputs": [],
   "execution_count": null
  },
  {
   "cell_type": "code",
   "id": "6d5a1b3d",
   "metadata": {},
   "source": [
    "plt.imshow(th3, cmap=\"gray\")"
   ],
   "outputs": [],
   "execution_count": null
  },
  {
   "cell_type": "markdown",
   "id": "0c13f93d",
   "metadata": {},
   "source": [
    "# Оператор Собеля"
   ]
  },
  {
   "cell_type": "code",
   "id": "1d4aa309",
   "metadata": {},
   "source": [
    "scale = 1\n",
    "delta = 0\n",
    "ddepth = cv2.CV_16S\n",
    "grad_x = cv2.Sobel(image_gray, ddepth, 1, 0, ksize=3, scale=scale, delta=delta, borderType=cv2.BORDER_DEFAULT)\n",
    "grad_y = cv2.Sobel(image_gray, ddepth, 0, 1, ksize=3, scale=scale, delta=delta, borderType=cv2.BORDER_DEFAULT)"
   ],
   "outputs": [],
   "execution_count": null
  },
  {
   "cell_type": "code",
   "id": "b363e089",
   "metadata": {},
   "source": "plt.imshow((grad_x - grad_x.min()) * 255, cmap=\"gray\")",
   "outputs": [],
   "execution_count": null
  },
  {
   "cell_type": "code",
   "id": "0707b75a",
   "metadata": {},
   "source": "plt.imshow((grad_y - grad_y.min()) * 255, cmap=\"gray\")",
   "outputs": [],
   "execution_count": null
  },
  {
   "cell_type": "code",
   "id": "aca8f8bb",
   "metadata": {},
   "source": "grad = cv2.addWeighted(grad_x, 0.5, grad_y, 0.5, 0.0)  # mean value between",
   "outputs": [],
   "execution_count": null
  },
  {
   "cell_type": "code",
   "id": "78b96462",
   "metadata": {},
   "source": "plt.imshow((grad - grad.min()) * 255, cmap=\"gray\")",
   "outputs": [],
   "execution_count": null
  },
  {
   "cell_type": "markdown",
   "id": "1e361fcd",
   "metadata": {},
   "source": [
    "# Canny"
   ]
  },
  {
   "cell_type": "code",
   "id": "f114f058",
   "metadata": {},
   "source": "edges = cv2.Canny(image_gray, 100, 200)",
   "outputs": [],
   "execution_count": null
  },
  {
   "cell_type": "code",
   "id": "a152395e",
   "metadata": {},
   "source": [
    "plt.imshow(edges, cmap=\"gray\")"
   ],
   "outputs": [],
   "execution_count": null
  },
  {
   "cell_type": "markdown",
   "id": "1a4f482f",
   "metadata": {},
   "source": [
    "# Преобразование Хафа"
   ]
  },
  {
   "cell_type": "code",
   "id": "ff7e7e03",
   "metadata": {},
   "source": [
    "image = cv2.imread('img_1.jpg')\n",
    "image = cv2.cvtColor(image, cv2.COLOR_RGB2BGR)\n",
    "image_gray = cv2.cvtColor(image, cv2.COLOR_BGR2GRAY)"
   ],
   "outputs": [],
   "execution_count": null
  },
  {
   "cell_type": "code",
   "id": "a6bc7af9",
   "metadata": {},
   "source": [
    "plt.imshow(image)"
   ],
   "outputs": [],
   "execution_count": null
  },
  {
   "cell_type": "code",
   "id": "d5a56fd9",
   "metadata": {},
   "source": [
    "canny = cv2.Canny(image_gray, 50, 150, apertureSize=3)\n",
    "plt.imshow(canny)"
   ],
   "outputs": [],
   "execution_count": null
  },
  {
   "cell_type": "code",
   "id": "a94b8e34",
   "metadata": {},
   "source": [
    "lines = cv2.HoughLines(canny, 1, np.pi / 180, 190)"
   ],
   "outputs": [],
   "execution_count": null
  },
  {
   "cell_type": "code",
   "id": "692b4212",
   "metadata": {},
   "source": [
    "import math\n",
    "\n",
    "if lines is not None:\n",
    "    for i in range(0, len(lines)):\n",
    "        rho = lines[i][0][0]\n",
    "        theta = lines[i][0][1]\n",
    "        a = math.cos(theta)\n",
    "        b = math.sin(theta)\n",
    "        x0 = a * rho\n",
    "        y0 = b * rho\n",
    "        pt1 = (int(x0 + 1000 * (-b)), int(y0 + 1000 * (a)))\n",
    "        pt2 = (int(x0 - 1000 * (-b)), int(y0 - 1000 * (a)))\n",
    "        cv2.line(image, pt1, pt2, (0, 0, 255), 3, cv2.LINE_AA)"
   ],
   "outputs": [],
   "execution_count": null
  },
  {
   "cell_type": "code",
   "id": "e1d38ee6",
   "metadata": {},
   "source": [
    "plt.imshow(image)"
   ],
   "outputs": [],
   "execution_count": null
  },
  {
   "cell_type": "code",
   "id": "82830ae0",
   "metadata": {},
   "source": [
    "#ДЗ \n",
    "# 1. Для изображения sar_3.jpg найти наиболее протяженный участок\n",
    "# (выделить линии при помощи преобразования Хафа)\n",
    "# 2. Для изображения sar_3.jpg провести исследование алгоритмов бинаризации, выделить участок дорожной полосы."
   ],
   "outputs": [],
   "execution_count": null
  },
  {
   "metadata": {},
   "cell_type": "code",
   "source": [
    "image_hw = cv2.imread('sar_3.jpg')\n",
    "image_hw_gray = cv2.cvtColor(image_hw, cv2.COLOR_BGR2GRAY)\n",
    "plt.figure(figsize=(10, 6))\n",
    "plt.imshow(image_hw_gray, cmap=\"gray\")"
   ],
   "id": "acec9860c95063e",
   "outputs": [],
   "execution_count": null
  },
  {
   "metadata": {},
   "cell_type": "code",
   "source": [
    "# Точечная бинаризация с разными порогами\n",
    "bin_hw_50 = copy.deepcopy(image_hw_gray)\n",
    "bin_hw_50[image_hw_gray < 50] = 0\n",
    "bin_hw_50[image_hw_gray >= 50] = 255\n",
    "\n",
    "bin_hw_100 = copy.deepcopy(image_hw_gray)\n",
    "bin_hw_100[image_hw_gray < 100] = 0\n",
    "bin_hw_100[image_hw_gray >= 100] = 255\n",
    "\n",
    "bin_hw_150 = copy.deepcopy(image_hw_gray)\n",
    "bin_hw_150[image_hw_gray < 150] = 0\n",
    "bin_hw_150[image_hw_gray >= 150] = 255"
   ],
   "id": "97da5a641bd97502",
   "outputs": [],
   "execution_count": null
  },
  {
   "metadata": {},
   "cell_type": "code",
   "source": [
    "# Визуализация\n",
    "plt.figure(figsize=(15, 5))\n",
    "plt.subplot(1, 3, 1)\n",
    "plt.imshow(bin_hw_50, cmap=\"gray\")\n",
    "plt.title(\"T=50\")\n",
    "\n",
    "plt.subplot(1, 3, 2)\n",
    "plt.imshow(bin_hw_100, cmap=\"gray\")\n",
    "plt.title(\"T=100\")\n",
    "\n",
    "plt.subplot(1, 3, 3)\n",
    "plt.imshow(bin_hw_150, cmap=\"gray\")\n",
    "plt.title(\"T=150\")\n",
    "plt.tight_layout()\n",
    "plt.show()"
   ],
   "id": "65d28d8a1a9ed889",
   "outputs": [],
   "execution_count": null
  },
  {
   "metadata": {},
   "cell_type": "code",
   "source": [
    "# Бинаризация Отсу\n",
    "_, th_otsu_hw = cv2.threshold(image_hw_gray, 0, 255, cv2.THRESH_BINARY + cv2.THRESH_OTSU)"
   ],
   "id": "34ac49382ef282f9",
   "outputs": [],
   "execution_count": null
  },
  {
   "metadata": {},
   "cell_type": "code",
   "source": [
    "# Визуализация\n",
    "plt.figure(figsize=(10, 6))\n",
    "plt.imshow(th_otsu_hw, cmap=\"gray\")\n",
    "plt.title(\"Бинаризация Отсу\")\n",
    "plt.axis('off')\n",
    "plt.show()"
   ],
   "id": "f08115636152d3e2",
   "outputs": [],
   "execution_count": null
  },
  {
   "metadata": {},
   "cell_type": "code",
   "source": [
    "# Адаптивная бинаризация\n",
    "th_adaptive_hw = cv2.adaptiveThreshold(image_hw_gray, 255, cv2.ADAPTIVE_THRESH_GAUSSIAN_C,\n",
    "                                       cv2.THRESH_BINARY, 71, 21)"
   ],
   "id": "fd79a5e412f2d683",
   "outputs": [],
   "execution_count": null
  },
  {
   "metadata": {},
   "cell_type": "code",
   "source": [
    "# Визуализация\n",
    "plt.figure(figsize=(15, 5))\n",
    "plt.imshow(th_adaptive_hw, cmap=\"gray\")"
   ],
   "id": "53b232fe20f05ee3",
   "outputs": [],
   "execution_count": null
  },
  {
   "metadata": {},
   "cell_type": "code",
   "source": [
    "# Canny\n",
    "canny_hw = cv2.Canny(image_hw_gray, 50, 150, apertureSize=3)"
   ],
   "id": "c79604c87c96fd66",
   "outputs": [],
   "execution_count": null
  },
  {
   "metadata": {},
   "cell_type": "code",
   "source": [
    "# Визуализация\n",
    "plt.figure(figsize=(10, 6))\n",
    "plt.imshow(canny_hw, cmap=\"gray\")"
   ],
   "id": "7a919ea71bbbb00b",
   "outputs": [],
   "execution_count": null
  },
  {
   "metadata": {},
   "cell_type": "code",
   "source": [
    "# Преобразование Хафа\n",
    "lines_hw = cv2.HoughLines(canny_hw, 1, np.pi / 180, 100)\n",
    "image_hw_lines = cv2.cvtColor(image_hw_gray, cv2.COLOR_GRAY2BGR)\n",
    "max_length = 0\n",
    "longest_line = None\n",
    "\n",
    "if image_hw_lines is not None:\n",
    "    for i in range(len(image_hw_lines)):\n",
    "        rho = image_hw_lines[i][0][0]\n",
    "        theta = image_hw_lines[i][0][1]\n",
    "\n",
    "        a = math.cos(theta)\n",
    "        b = math.sin(theta)\n",
    "        x0 = a * rho\n",
    "        y0 = b * rho\n",
    "\n",
    "        pt1 = (int(x0 + 1000 * (-b)), int(y0 + 1000 * (a)))\n",
    "        pt2 = (int(x0 - 1000 * (-b)), int(y0 - 1000 * (a)))\n",
    "\n",
    "        length = math.sqrt((pt2[0] - pt1[0]) ** 2 + (pt2[1] - pt1[1]) ** 2)\n",
    "\n",
    "        if length > max_length:\n",
    "            max_length = length\n",
    "            longest_line = (rho, theta, pt1, pt2)\n",
    "\n",
    "        cv2.line(image_hw_lines, pt1, pt2, (0, 0, 255), 2, cv2.LINE_AA)"
   ],
   "id": "8e273040e21b674d",
   "outputs": [],
   "execution_count": null
  },
  {
   "metadata": {},
   "cell_type": "code",
   "source": [
    "# Визуализация\n",
    "plt.figure(figsize=(10, 6))\n",
    "plt.imshow(image_hw_lines)"
   ],
   "id": "3575da0d1ba9dc5",
   "outputs": [],
   "execution_count": null
  },
  {
   "metadata": {},
   "cell_type": "code",
   "source": [
    "image_hw_longest = cv2.cvtColor(image_hw_gray, cv2.COLOR_GRAY2BGR)\n",
    "rho, theta, pt1, pt2 = longest_line\n",
    "cv2.line(image_hw_longest, pt1, pt2, (0, 0, 255), 3, cv2.LINE_AA)\n",
    "\n",
    "plt.figure(figsize=(10, 6))\n",
    "plt.imshow(image_hw_longest)"
   ],
   "id": "d9ee911d0f2b91e",
   "outputs": [],
   "execution_count": null
  }
 ],
 "metadata": {
  "kernelspec": {
   "display_name": "Python 3 (ipykernel)",
   "language": "python",
   "name": "python3"
  },
  "language_info": {
   "codemirror_mode": {
    "name": "ipython",
    "version": 3
   },
   "file_extension": ".py",
   "mimetype": "text/x-python",
   "name": "python",
   "nbconvert_exporter": "python",
   "pygments_lexer": "ipython3",
   "version": "3.10.4"
  }
 },
 "nbformat": 4,
 "nbformat_minor": 5
}
